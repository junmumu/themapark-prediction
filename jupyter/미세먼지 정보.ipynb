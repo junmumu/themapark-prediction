{
 "cells": [
  {
   "cell_type": "markdown",
   "id": "3295a1ba",
   "metadata": {},
   "source": [
    "### 서울 광진구, 송파구 미세먼지 정보"
   ]
  },
  {
   "cell_type": "code",
   "execution_count": null,
   "id": "67595c90",
   "metadata": {},
   "outputs": [],
   "source": [
    "https://www.airkorea.or.kr/web/pollution/getPastChart?dateDiv=일간&period=202203&stationCode=111141"
   ]
  },
  {
   "cell_type": "code",
   "execution_count": 2,
   "id": "18f7320f",
   "metadata": {},
   "outputs": [],
   "source": [
    "import requests\n",
    "import bs4\n",
    "import datetime as dt\n",
    "import pandas as pd"
   ]
  },
  {
   "cell_type": "code",
   "execution_count": 3,
   "id": "fa5519c9",
   "metadata": {},
   "outputs": [],
   "source": [
    "def cal_std_day(before_day):\n",
    "    x = dt.datetime.now() - dt.timedelta(before_day) #현재날짜-지정날짜\n",
    "    year = x.year #연도\n",
    "    month = x.month if x.month >= 10 else '0'+ str(x.month)\n",
    "    day = x.day if x.day >= 10 else '0'+ str(x.day)\n",
    "    return str(year) + str(month) + str(day)"
   ]
  },
  {
   "cell_type": "code",
   "execution_count": 4,
   "id": "67ff123a",
   "metadata": {},
   "outputs": [],
   "source": [
    "def cal_std_month(before_day):\n",
    "    x = dt.datetime.now() - dt.timedelta(30*before_day) #현재날짜-지정날짜\n",
    "    year = x.year #연도\n",
    "    month = x.month if x.month >= 10 else '0'+ str(x.month)\n",
    "    day = x.day if x.day >= 10 else '0'+ str(x.day)\n",
    "    return str(year) + str(month)"
   ]
  },
  {
   "cell_type": "code",
   "execution_count": 14,
   "id": "619cbf42",
   "metadata": {
    "scrolled": true
   },
   "outputs": [
    {
     "name": "stdout",
     "output_type": "stream",
     "text": [
      "201701\n",
      "201702\n",
      "201703\n",
      "201704\n",
      "201705\n",
      "201706\n",
      "201707\n",
      "201708\n",
      "201709\n",
      "201710\n",
      "201711\n",
      "201712\n",
      "201801\n",
      "201802\n",
      "201803\n",
      "201804\n",
      "201805\n",
      "201806\n",
      "201807\n",
      "201808\n",
      "201809\n",
      "201810\n",
      "201811\n",
      "201812\n",
      "201901\n",
      "201902\n",
      "201903\n",
      "201904\n",
      "201905\n",
      "201906\n",
      "201907\n",
      "201908\n",
      "201909\n",
      "201910\n",
      "201911\n",
      "201912\n",
      "202001\n",
      "202002\n",
      "202003\n",
      "202004\n",
      "202005\n",
      "202005\n",
      "202006\n",
      "202007\n",
      "202008\n",
      "202009\n",
      "202010\n",
      "202011\n",
      "202012\n",
      "202101\n",
      "202102\n",
      "202103\n",
      "202104\n",
      "202105\n",
      "202106\n",
      "202107\n",
      "202108\n",
      "202109\n",
      "202110\n",
      "202111\n",
      "202112\n",
      "202201\n",
      "202202\n",
      "202203\n",
      "202204\n",
      "202205\n",
      "202206\n"
     ]
    }
   ],
   "source": [
    "for i in range(70, 3, -1):\n",
    "    print(cal_std_month(i))"
   ]
  },
  {
   "cell_type": "code",
   "execution_count": 25,
   "id": "3c32dc52",
   "metadata": {
    "scrolled": true
   },
   "outputs": [
    {
     "name": "stdout",
     "output_type": "stream",
     "text": [
      "20220601\n",
      "20220602\n",
      "20220603\n",
      "20220604\n",
      "20220605\n",
      "20220606\n",
      "20220607\n",
      "20220608\n",
      "20220609\n",
      "20220610\n",
      "20220611\n",
      "20220612\n",
      "20220613\n",
      "20220614\n",
      "20220615\n",
      "20220616\n",
      "20220617\n",
      "20220618\n",
      "20220619\n",
      "20220620\n",
      "20220621\n",
      "20220622\n",
      "20220623\n",
      "20220624\n",
      "20220625\n",
      "20220626\n",
      "20220627\n",
      "20220628\n",
      "20220629\n",
      "20220630\n"
     ]
    }
   ],
   "source": [
    "for i in range(139, 109, -1):\n",
    "    print(cal_std_day(i))"
   ]
  },
  {
   "cell_type": "code",
   "execution_count": null,
   "id": "fcc400ca",
   "metadata": {},
   "outputs": [],
   "source": [
    "# 111141 : 광진구(서울어린이대공원)\n",
    "# 111273 : 송파구(롯데월드)"
   ]
  },
  {
   "cell_type": "code",
   "execution_count": 1,
   "id": "755f1109",
   "metadata": {},
   "outputs": [],
   "source": [
    "url = 'https://www.airkorea.or.kr/web/pollution/getPastChart'\n",
    "params = {\n",
    "    'dateDiv': '일간',\n",
    "    'period': '202203',\n",
    "    'stationCode': '111141' # 111273\n",
    "}"
   ]
  },
  {
   "cell_type": "code",
   "execution_count": 8,
   "id": "f537b565",
   "metadata": {},
   "outputs": [],
   "source": [
    "response = requests.get(url, params=params)\n",
    "res = response.json()"
   ]
  },
  {
   "cell_type": "code",
   "execution_count": 33,
   "id": "4be78621",
   "metadata": {},
   "outputs": [],
   "source": [
    "gwangjin_dict = {'날짜': [], 'PM10': [], 'PM2.5': []}"
   ]
  },
  {
   "cell_type": "code",
   "execution_count": 34,
   "id": "5b6ba76c",
   "metadata": {},
   "outputs": [],
   "source": [
    "for i in range(70, 4, -1):\n",
    "    params['period'] = cal_std_month(i)\n",
    "    params['stationCode'] = '111141'  # 광진구\n",
    "    response = requests.get(url, params=params)\n",
    "    res = response.json()\n",
    "    charts = res['charts']\n",
    "    for chart in charts:\n",
    "        date = chart['DATA_TIME'].replace('-', '')\n",
    "        pm10 = chart['VALUE_10007']\n",
    "        pm25 = chart['VALUE_10008']\n",
    "        gwangjin_dict['날짜'].append(date)\n",
    "        gwangjin_dict['PM10'].append(pm10)\n",
    "        gwangjin_dict['PM2.5'].append(pm25)"
   ]
  },
  {
   "cell_type": "code",
   "execution_count": 35,
   "id": "115b6e80",
   "metadata": {},
   "outputs": [],
   "source": [
    "for i in range(139, 109, -1):\n",
    "    gwangjin_dict['날짜'].append(cal_std_day(i))"
   ]
  },
  {
   "cell_type": "code",
   "execution_count": 36,
   "id": "a111d338",
   "metadata": {},
   "outputs": [],
   "source": [
    "gwangjin_dict['PM10'] += [23, 29, 38, 31, 24, 6, 5, 14, 24, 24, 22, 21, 22, 12, 10, 15, 33, 23, 26, 32, 32, 27, 41, 21, 46, 23, 13, 17, 15, 5]"
   ]
  },
  {
   "cell_type": "code",
   "execution_count": 37,
   "id": "eaddd60b",
   "metadata": {},
   "outputs": [],
   "source": [
    "gwangjin_dict['PM2.5'] += [9, 16, 23, 18, 15, 2, 2, 8, 13, 15, 10, 13, 13, 4, 5, 8, 20, 12, 15, 19, 19, 15, 25, 14, 33, 13, 5, 6, 7, 2]"
   ]
  },
  {
   "cell_type": "code",
   "execution_count": 38,
   "id": "457960df",
   "metadata": {},
   "outputs": [
    {
     "data": {
      "text/html": [
       "<div>\n",
       "<style scoped>\n",
       "    .dataframe tbody tr th:only-of-type {\n",
       "        vertical-align: middle;\n",
       "    }\n",
       "\n",
       "    .dataframe tbody tr th {\n",
       "        vertical-align: top;\n",
       "    }\n",
       "\n",
       "    .dataframe thead th {\n",
       "        text-align: right;\n",
       "    }\n",
       "</style>\n",
       "<table border=\"1\" class=\"dataframe\">\n",
       "  <thead>\n",
       "    <tr style=\"text-align: right;\">\n",
       "      <th></th>\n",
       "      <th>날짜</th>\n",
       "      <th>PM10</th>\n",
       "      <th>PM2.5</th>\n",
       "    </tr>\n",
       "  </thead>\n",
       "  <tbody>\n",
       "    <tr>\n",
       "      <th>0</th>\n",
       "      <td>20170101</td>\n",
       "      <td>80.0</td>\n",
       "      <td>71.0</td>\n",
       "    </tr>\n",
       "    <tr>\n",
       "      <th>1</th>\n",
       "      <td>20170102</td>\n",
       "      <td>111.0</td>\n",
       "      <td>95.0</td>\n",
       "    </tr>\n",
       "    <tr>\n",
       "      <th>2</th>\n",
       "      <td>20170103</td>\n",
       "      <td>86.0</td>\n",
       "      <td>67.0</td>\n",
       "    </tr>\n",
       "    <tr>\n",
       "      <th>3</th>\n",
       "      <td>20170104</td>\n",
       "      <td>54.0</td>\n",
       "      <td>40.0</td>\n",
       "    </tr>\n",
       "    <tr>\n",
       "      <th>4</th>\n",
       "      <td>20170105</td>\n",
       "      <td>33.0</td>\n",
       "      <td>22.0</td>\n",
       "    </tr>\n",
       "    <tr>\n",
       "      <th>...</th>\n",
       "      <td>...</td>\n",
       "      <td>...</td>\n",
       "      <td>...</td>\n",
       "    </tr>\n",
       "    <tr>\n",
       "      <th>2033</th>\n",
       "      <td>20220626</td>\n",
       "      <td>23.0</td>\n",
       "      <td>13.0</td>\n",
       "    </tr>\n",
       "    <tr>\n",
       "      <th>2034</th>\n",
       "      <td>20220627</td>\n",
       "      <td>13.0</td>\n",
       "      <td>5.0</td>\n",
       "    </tr>\n",
       "    <tr>\n",
       "      <th>2035</th>\n",
       "      <td>20220628</td>\n",
       "      <td>17.0</td>\n",
       "      <td>6.0</td>\n",
       "    </tr>\n",
       "    <tr>\n",
       "      <th>2036</th>\n",
       "      <td>20220629</td>\n",
       "      <td>15.0</td>\n",
       "      <td>7.0</td>\n",
       "    </tr>\n",
       "    <tr>\n",
       "      <th>2037</th>\n",
       "      <td>20220630</td>\n",
       "      <td>5.0</td>\n",
       "      <td>2.0</td>\n",
       "    </tr>\n",
       "  </tbody>\n",
       "</table>\n",
       "<p>2038 rows × 3 columns</p>\n",
       "</div>"
      ],
      "text/plain": [
       "            날짜   PM10  PM2.5\n",
       "0     20170101   80.0   71.0\n",
       "1     20170102  111.0   95.0\n",
       "2     20170103   86.0   67.0\n",
       "3     20170104   54.0   40.0\n",
       "4     20170105   33.0   22.0\n",
       "...        ...    ...    ...\n",
       "2033  20220626   23.0   13.0\n",
       "2034  20220627   13.0    5.0\n",
       "2035  20220628   17.0    6.0\n",
       "2036  20220629   15.0    7.0\n",
       "2037  20220630    5.0    2.0\n",
       "\n",
       "[2038 rows x 3 columns]"
      ]
     },
     "execution_count": 38,
     "metadata": {},
     "output_type": "execute_result"
    }
   ],
   "source": [
    "df_gwangjin_fin = pd.DataFrame(gwangjin_dict)\n",
    "df_gwangjin_fin"
   ]
  },
  {
   "cell_type": "code",
   "execution_count": 39,
   "id": "88e91187",
   "metadata": {},
   "outputs": [],
   "source": [
    "df_gwangjin_fin.to_csv('광진구_미세먼지.csv', index=False, encoding='cp949')"
   ]
  },
  {
   "cell_type": "code",
   "execution_count": null,
   "id": "698bf247",
   "metadata": {},
   "outputs": [],
   "source": []
  },
  {
   "cell_type": "code",
   "execution_count": 65,
   "id": "9391db51",
   "metadata": {},
   "outputs": [],
   "source": [
    "songpa_dict = {'날짜': [], 'PM10': [], 'PM2.5': []}"
   ]
  },
  {
   "cell_type": "code",
   "execution_count": 66,
   "id": "32649ae0",
   "metadata": {},
   "outputs": [],
   "source": [
    "for i in range(70, 4, -1):   # 70, 4, -1\n",
    "    params['period'] = cal_std_month(i)\n",
    "    params['stationCode'] = '111273'  # 송파구\n",
    "    response = requests.get(url, params=params)\n",
    "    res = response.json()\n",
    "    charts = res['charts']\n",
    "    for chart in charts:\n",
    "        date = chart['DATA_TIME'].replace('-', '')\n",
    "        pm10 = chart['VALUE_10007']\n",
    "        pm25 = chart['VALUE_10008']\n",
    "        songpa_dict['날짜'].append(date)\n",
    "        songpa_dict['PM10'].append(pm10)\n",
    "        songpa_dict['PM2.5'].append(pm25)"
   ]
  },
  {
   "cell_type": "code",
   "execution_count": 67,
   "id": "c7945473",
   "metadata": {},
   "outputs": [],
   "source": [
    "for i in range(139, 109, -1):\n",
    "    songpa_dict['날짜'].append(cal_std_day(i))"
   ]
  },
  {
   "cell_type": "code",
   "execution_count": 68,
   "id": "064a908b",
   "metadata": {},
   "outputs": [],
   "source": [
    "songpa_dict['PM10'] += [25, 31, 42, 38, 26, 8, 7, 16, 27, 31, 25, 22, 26, 15, 9, 19, 34, 25, 22, 29, 34, 31, 32, 23, 46, 22, 13, 16, 14, 7]"
   ]
  },
  {
   "cell_type": "code",
   "execution_count": 69,
   "id": "682d355a",
   "metadata": {},
   "outputs": [],
   "source": [
    "songpa_dict['PM2.5'] += [10, 15, 24, 20, 15, 3, 3, 9, 15, 18, 14, 15, 15, 5, 4, 9, 22, 14, 11, 15, 19, 17, 17, 16, 33, 12, 5, 6, 7, 4]"
   ]
  },
  {
   "cell_type": "code",
   "execution_count": 70,
   "id": "eb6c53ae",
   "metadata": {},
   "outputs": [
    {
     "data": {
      "text/html": [
       "<div>\n",
       "<style scoped>\n",
       "    .dataframe tbody tr th:only-of-type {\n",
       "        vertical-align: middle;\n",
       "    }\n",
       "\n",
       "    .dataframe tbody tr th {\n",
       "        vertical-align: top;\n",
       "    }\n",
       "\n",
       "    .dataframe thead th {\n",
       "        text-align: right;\n",
       "    }\n",
       "</style>\n",
       "<table border=\"1\" class=\"dataframe\">\n",
       "  <thead>\n",
       "    <tr style=\"text-align: right;\">\n",
       "      <th></th>\n",
       "      <th>날짜</th>\n",
       "      <th>PM10</th>\n",
       "      <th>PM2.5</th>\n",
       "    </tr>\n",
       "  </thead>\n",
       "  <tbody>\n",
       "    <tr>\n",
       "      <th>0</th>\n",
       "      <td>20170101</td>\n",
       "      <td>64.0</td>\n",
       "      <td>49.0</td>\n",
       "    </tr>\n",
       "    <tr>\n",
       "      <th>1</th>\n",
       "      <td>20170102</td>\n",
       "      <td>94.0</td>\n",
       "      <td>64.0</td>\n",
       "    </tr>\n",
       "    <tr>\n",
       "      <th>2</th>\n",
       "      <td>20170103</td>\n",
       "      <td>76.0</td>\n",
       "      <td>47.0</td>\n",
       "    </tr>\n",
       "    <tr>\n",
       "      <th>3</th>\n",
       "      <td>20170104</td>\n",
       "      <td>55.0</td>\n",
       "      <td>33.0</td>\n",
       "    </tr>\n",
       "    <tr>\n",
       "      <th>4</th>\n",
       "      <td>20170105</td>\n",
       "      <td>31.0</td>\n",
       "      <td>19.0</td>\n",
       "    </tr>\n",
       "    <tr>\n",
       "      <th>...</th>\n",
       "      <td>...</td>\n",
       "      <td>...</td>\n",
       "      <td>...</td>\n",
       "    </tr>\n",
       "    <tr>\n",
       "      <th>2033</th>\n",
       "      <td>20220626</td>\n",
       "      <td>22.0</td>\n",
       "      <td>12.0</td>\n",
       "    </tr>\n",
       "    <tr>\n",
       "      <th>2034</th>\n",
       "      <td>20220627</td>\n",
       "      <td>13.0</td>\n",
       "      <td>5.0</td>\n",
       "    </tr>\n",
       "    <tr>\n",
       "      <th>2035</th>\n",
       "      <td>20220628</td>\n",
       "      <td>16.0</td>\n",
       "      <td>6.0</td>\n",
       "    </tr>\n",
       "    <tr>\n",
       "      <th>2036</th>\n",
       "      <td>20220629</td>\n",
       "      <td>14.0</td>\n",
       "      <td>7.0</td>\n",
       "    </tr>\n",
       "    <tr>\n",
       "      <th>2037</th>\n",
       "      <td>20220630</td>\n",
       "      <td>7.0</td>\n",
       "      <td>4.0</td>\n",
       "    </tr>\n",
       "  </tbody>\n",
       "</table>\n",
       "<p>2038 rows × 3 columns</p>\n",
       "</div>"
      ],
      "text/plain": [
       "            날짜  PM10  PM2.5\n",
       "0     20170101  64.0   49.0\n",
       "1     20170102  94.0   64.0\n",
       "2     20170103  76.0   47.0\n",
       "3     20170104  55.0   33.0\n",
       "4     20170105  31.0   19.0\n",
       "...        ...   ...    ...\n",
       "2033  20220626  22.0   12.0\n",
       "2034  20220627  13.0    5.0\n",
       "2035  20220628  16.0    6.0\n",
       "2036  20220629  14.0    7.0\n",
       "2037  20220630   7.0    4.0\n",
       "\n",
       "[2038 rows x 3 columns]"
      ]
     },
     "execution_count": 70,
     "metadata": {},
     "output_type": "execute_result"
    }
   ],
   "source": [
    "df_songpa_fin = pd.DataFrame(songpa_dict)\n",
    "df_songpa_fin"
   ]
  },
  {
   "cell_type": "code",
   "execution_count": 71,
   "id": "4fcf23f2",
   "metadata": {},
   "outputs": [],
   "source": [
    "df_songpa_fin.to_csv('송파구_미세먼지.csv', index=False, encoding='cp949')"
   ]
  },
  {
   "cell_type": "code",
   "execution_count": null,
   "id": "e845d172",
   "metadata": {},
   "outputs": [],
   "source": []
  }
 ],
 "metadata": {
  "kernelspec": {
   "display_name": "Python 3 (ipykernel)",
   "language": "python",
   "name": "python3"
  },
  "language_info": {
   "codemirror_mode": {
    "name": "ipython",
    "version": 3
   },
   "file_extension": ".py",
   "mimetype": "text/x-python",
   "name": "python",
   "nbconvert_exporter": "python",
   "pygments_lexer": "ipython3",
   "version": "3.9.12"
  }
 },
 "nbformat": 4,
 "nbformat_minor": 5
}
