{
 "cells": [
  {
   "cell_type": "code",
   "execution_count": 1,
   "id": "4f941dc9",
   "metadata": {},
   "outputs": [],
   "source": [
    "from IPython.core.interactiveshell import InteractiveShell\n",
    "InteractiveShell.ast_node_interactivity = \"all\""
   ]
  },
  {
   "cell_type": "code",
   "execution_count": 2,
   "id": "3a4bc4d8",
   "metadata": {},
   "outputs": [],
   "source": [
    "from datetime import date, datetime\n",
    "from pyspark.sql.types import *\n",
    "from pyspark.sql.functions import *\n",
    "import datetime as dt\n",
    "import pandas as pd\n",
    "import csv\n"
   ]
  },
  {
   "cell_type": "code",
   "execution_count": 3,
   "id": "5497e1de",
   "metadata": {},
   "outputs": [],
   "source": [
    "def cal_std_day(befor_day):   \n",
    "    x = dt.datetime.now() - dt.timedelta(befor_day)\n",
    "    year = x.year\n",
    "    month = x.month if x.month >= 10 else '0'+ str(x.month)\n",
    "    day = x.day if x.day >= 10 else '0'+ str(x.day)  \n",
    "    return str(year)+ '-' +str(month)+ '-' +str(day)"
   ]
  },
  {
   "cell_type": "code",
   "execution_count": 4,
   "id": "6215bc9a",
   "metadata": {
    "scrolled": true
   },
   "outputs": [
    {
     "name": "stderr",
     "output_type": "stream",
     "text": [
      "[Stage 1:>                                                          (0 + 1) / 1]\r"
     ]
    },
    {
     "name": "stdout",
     "output_type": "stream",
     "text": [
      "+--------------------+-----------------------------+\n",
      "|                data|                         meta|\n",
      "+--------------------+-----------------------------+\n",
      "|[{0.0, 2022-10-20...|{{강수량, 날짜, 바람, 일교...|\n",
      "+--------------------+-----------------------------+\n",
      "\n",
      "root\n",
      " |-- data: array (nullable = true)\n",
      " |    |-- element: struct (containsNull = true)\n",
      " |    |    |-- 강수량: double (nullable = true)\n",
      " |    |    |-- 날짜: string (nullable = true)\n",
      " |    |    |-- 바람: double (nullable = true)\n",
      " |    |    |-- 일교차: double (nullable = true)\n",
      " |    |    |-- 지역: string (nullable = true)\n",
      " |    |    |-- 최고기온: double (nullable = true)\n",
      " |    |    |-- 최대풍속: double (nullable = true)\n",
      " |    |    |-- 최저기온: double (nullable = true)\n",
      " |-- meta: struct (nullable = true)\n",
      " |    |-- cols: struct (nullable = true)\n",
      " |    |    |-- 강수량: string (nullable = true)\n",
      " |    |    |-- 날짜: string (nullable = true)\n",
      " |    |    |-- 바람: string (nullable = true)\n",
      " |    |    |-- 일교차: string (nullable = true)\n",
      " |    |    |-- 지역: string (nullable = true)\n",
      " |    |    |-- 최고기온: string (nullable = true)\n",
      " |    |    |-- 최대풍속: string (nullable = true)\n",
      " |    |    |-- 최저기온: string (nullable = true)\n",
      " |    |-- desc: string (nullable = true)\n",
      "\n"
     ]
    },
    {
     "name": "stderr",
     "output_type": "stream",
     "text": [
      "\r",
      "                                                                                \r"
     ]
    }
   ],
   "source": [
    "file_name = '/themapark/weather/weather' + cal_std_day(0) + '.json'\n",
    "tmp = spark.read.json(file_name, encoding='UTF-8')\n",
    "tmp.show()\n",
    "tmp.printSchema()"
   ]
  },
  {
   "cell_type": "code",
   "execution_count": 10,
   "id": "feeb41b6",
   "metadata": {
    "scrolled": true
   },
   "outputs": [
    {
     "name": "stderr",
     "output_type": "stream",
     "text": [
      "                                                                                \r"
     ]
    }
   ],
   "source": [
    "data = []\n",
    "for r1 in tmp.select(tmp.data).toLocalIterator():\n",
    "    if not r1.data:\n",
    "        continue\n",
    "    for r2 in r1.data:\n",
    "        temp = r2.asDict()\n",
    "        data.append(temp)\n",
    "\n",
    "dw = spark.createDataFrame(data)\n",
    "w_data = dw.select(\n",
    "                dw.지역.cast(StringType()).alias('LOC')\n",
    "                ,col('날짜').cast(DateType()).alias('STD_DATE')\n",
    "                ,col('최고기온').cast(FloatType()).alias('HIGH_TEMP')\n",
    "                ,col('최저기온').cast(FloatType()).alias('LOW_TEMP')\n",
    "                ,col('일교차').cast(FloatType()).alias('DIFF_TEMP')\n",
    "                ,col('강수량').cast(FloatType()).alias('RAIN_AMOUNT')\n",
    "                ,col('바람').cast(FloatType()).alias('AVG_WIND')\n",
    "                ,col('최대풍속').cast(FloatType()).alias('HIGH_WIND')\n",
    "            )\n",
    "\n",
    "w_data.coalesce(1).\\\n",
    "    write.\\\n",
    "    format(\"com.databricks.spark.csv\").\\\n",
    "    option(\"header\", \"true\").\\\n",
    "    save(\"/data/\"+cal_std_day(0)+\".csv\")"
   ]
  },
  {
   "cell_type": "code",
   "execution_count": 12,
   "id": "98e43acc",
   "metadata": {},
   "outputs": [
    {
     "data": {
      "text/plain": [
       "pyspark.sql.dataframe.DataFrame"
      ]
     },
     "execution_count": 12,
     "metadata": {},
     "output_type": "execute_result"
    }
   ],
   "source": [
    "type(w_data)"
   ]
  },
  {
   "cell_type": "code",
   "execution_count": 6,
   "id": "07b76ced",
   "metadata": {},
   "outputs": [
    {
     "name": "stderr",
     "output_type": "stream",
     "text": [
      "[Stage 5:>                                                          (0 + 1) / 1]\r"
     ]
    },
    {
     "name": "stdout",
     "output_type": "stream",
     "text": [
      "+--------------------+-----------------------------+\n",
      "|                data|                         meta|\n",
      "+--------------------+-----------------------------+\n",
      "|[{2022-10-20, 24,...|{{날짜, 미세먼지, 지역, 초...|\n",
      "+--------------------+-----------------------------+\n",
      "\n",
      "root\n",
      " |-- data: array (nullable = true)\n",
      " |    |-- element: struct (containsNull = true)\n",
      " |    |    |-- 날짜: string (nullable = true)\n",
      " |    |    |-- 미세먼지: long (nullable = true)\n",
      " |    |    |-- 지역: string (nullable = true)\n",
      " |    |    |-- 초미세먼지: long (nullable = true)\n",
      " |-- meta: struct (nullable = true)\n",
      " |    |-- cols: struct (nullable = true)\n",
      " |    |    |-- 날짜: string (nullable = true)\n",
      " |    |    |-- 미세먼지: string (nullable = true)\n",
      " |    |    |-- 지역: string (nullable = true)\n",
      " |    |    |-- 초미세먼지: string (nullable = true)\n",
      " |    |-- desc: string (nullable = true)\n",
      "\n"
     ]
    },
    {
     "name": "stderr",
     "output_type": "stream",
     "text": [
      "\r",
      "                                                                                \r"
     ]
    }
   ],
   "source": [
    "file_name = '/themapark/dust/dust' + cal_std_day(0) + '.json'\n",
    "tmp = spark.read.json(file_name, encoding='UTF-8')\n",
    "tmp.show()\n",
    "tmp.printSchema()"
   ]
  },
  {
   "cell_type": "code",
   "execution_count": 12,
   "id": "fc3ab09c",
   "metadata": {},
   "outputs": [
    {
     "name": "stderr",
     "output_type": "stream",
     "text": [
      "[Stage 8:>                                                          (0 + 1) / 1]\r"
     ]
    },
    {
     "name": "stdout",
     "output_type": "stream",
     "text": [
      "+----+----------+----+----+\n",
      "| LOC|  STD_DATE|PM10|PM25|\n",
      "+----+----------+----+----+\n",
      "|과천|2022-10-20|  24|  12|\n",
      "|과천|2022-10-21|  45|  32|\n",
      "|과천|2022-10-22|  45|  27|\n",
      "|과천|2022-10-23|  33|  17|\n",
      "|과천|2022-10-24|  27|  11|\n",
      "|과천|2022-10-25|  26|  11|\n",
      "|과천|2022-10-26|  35|  17|\n",
      "|과천|2022-10-27|  30|  15|\n",
      "|과천|2022-10-28|  29|  15|\n",
      "|과천|2022-10-29|  21|  11|\n",
      "|과천|2022-10-30|  25|  14|\n",
      "|송파|2022-10-20|  34|  14|\n",
      "|송파|2022-10-21|  45|  32|\n",
      "|송파|2022-10-22|  41|  26|\n",
      "|송파|2022-10-23|  34|  17|\n",
      "|송파|2022-10-24|  29|  13|\n",
      "|송파|2022-10-25|  28|  15|\n",
      "|송파|2022-10-26|  32|  16|\n",
      "|송파|2022-10-27|  29|  11|\n",
      "|송파|2022-10-28|  27|  11|\n",
      "+----+----------+----+----+\n",
      "only showing top 20 rows\n",
      "\n",
      "root\n",
      " |-- LOC: string (nullable = true)\n",
      " |-- STD_DATE: date (nullable = true)\n",
      " |-- PM10: integer (nullable = true)\n",
      " |-- PM25: integer (nullable = true)\n",
      "\n"
     ]
    },
    {
     "name": "stderr",
     "output_type": "stream",
     "text": [
      "\r",
      "                                                                                \r"
     ]
    }
   ],
   "source": [
    "data = []\n",
    "for r1 in tmp.select(tmp.data).toLocalIterator():\n",
    "    if not r1.data:\n",
    "        continue\n",
    "    for r2 in r1.data:\n",
    "        temp = r2.asDict()\n",
    "        data.append(temp)\n",
    "\n",
    "dd = spark.createDataFrame(data)\n",
    "w_data = dd.select(\n",
    "                col('지역').cast(StringType()).alias('LOC')\n",
    "                ,col('날짜').cast(DateType()).alias('STD_DATE')\n",
    "                ,col('미세먼지').cast(IntegerType()).alias('PM10')\n",
    "                ,col('초미세먼지').cast(IntegerType()).alias('PM25')\n",
    "            )\n",
    "\n",
    "w_data.show()\n",
    "w_data.printSchema()\n"
   ]
  },
  {
   "cell_type": "code",
   "execution_count": null,
   "id": "77134de8",
   "metadata": {},
   "outputs": [],
   "source": []
  },
  {
   "cell_type": "code",
   "execution_count": null,
   "id": "205ffea8",
   "metadata": {},
   "outputs": [],
   "source": []
  },
  {
   "cell_type": "code",
   "execution_count": null,
   "id": "7314ae53",
   "metadata": {},
   "outputs": [],
   "source": []
  }
 ],
 "metadata": {
  "kernelspec": {
   "display_name": "Python 3 (ipykernel)",
   "language": "python",
   "name": "python3"
  },
  "language_info": {
   "codemirror_mode": {
    "name": "ipython",
    "version": 3
   },
   "file_extension": ".py",
   "mimetype": "text/x-python",
   "name": "python",
   "nbconvert_exporter": "python",
   "pygments_lexer": "ipython3",
   "version": "3.8.10"
  }
 },
 "nbformat": 4,
 "nbformat_minor": 5
}
